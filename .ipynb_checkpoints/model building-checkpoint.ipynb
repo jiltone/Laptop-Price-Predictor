{
 "cells": [
  {
   "cell_type": "code",
   "execution_count": 1,
   "id": "9a60ee06-594b-4038-bd50-7a077ae9e2cc",
   "metadata": {},
   "outputs": [
    {
     "ename": "SyntaxError",
     "evalue": "invalid syntax (3471627267.py, line 1)",
     "output_type": "error",
     "traceback": [
      "\u001b[1;36m  Cell \u001b[1;32mIn[1], line 1\u001b[1;36m\u001b[0m\n\u001b[1;33m    pip install numpy\u001b[0m\n\u001b[1;37m        ^\u001b[0m\n\u001b[1;31mSyntaxError\u001b[0m\u001b[1;31m:\u001b[0m invalid syntax\n"
     ]
    }
   ],
   "source": [
    "pip install numpy\n",
    "pip install pandas\n"
   ]
  },
  {
   "cell_type": "code",
   "execution_count": null,
   "id": "411b2ee8-d497-418b-a20c-47e04e9c98e2",
   "metadata": {},
   "outputs": [],
   "source": [
    "pip install pandas \n"
   ]
  },
  {
   "cell_type": "code",
   "execution_count": null,
   "id": "9abc50a5-9c3e-4865-bcc7-9fd1bd22a146",
   "metadata": {},
   "outputs": [],
   "source": [
    "import numpy as np\n",
    "import pandas as pd"
   ]
  },
  {
   "cell_type": "code",
   "execution_count": 2,
   "id": "4fdc0570-e691-44e8-b508-ac310c288303",
   "metadata": {},
   "outputs": [
    {
     "ename": "SyntaxError",
     "evalue": "invalid syntax (1566514831.py, line 5)",
     "output_type": "error",
     "traceback": [
      "\u001b[1;36m  Cell \u001b[1;32mIn[2], line 5\u001b[1;36m\u001b[0m\n\u001b[1;33m    df = pd.read_csv(C:\\Users\\Imal Pasindu\\Downloads\\laptop_price.csv)\u001b[0m\n\u001b[1;37m                      ^\u001b[0m\n\u001b[1;31mSyntaxError\u001b[0m\u001b[1;31m:\u001b[0m invalid syntax\n"
     ]
    }
   ],
   "source": [
    "import pandas as pd\n",
    "\n",
    "# Load the CSV file\n",
    "file_path = r\"D:\\Project\\laptop price predictor\\Laptop-Price-Predictor\\Laptop-Price-Predictor\\Laptop_price.csv\"\n",
    "df = pd.read_csv(C:\\Users\\Imal Pasindu\\Downloads\\laptop_price.csv)\n",
    "\n",
    "# Display the first few rows\n",
    "print(df.head())\n"
   ]
  },
  {
   "cell_type": "code",
   "execution_count": null,
   "id": "f5364aee-c7ba-4152-a7ba-d8c918c6c378",
   "metadata": {},
   "outputs": [],
   "source": [
    "import pandas as pd\n",
    "\n",
    "# Load the CSV file\n",
    "file_path = r\"C:\\Users\\Imal Pasindu\\Downloads\\laptop_price.csv\"\n",
    "df = pd.read_csv(file_path)\n",
    "\n",
    "# Display the first few rows\n",
    "print(df.head())\n"
   ]
  },
  {
   "cell_type": "code",
   "execution_count": null,
   "id": "967d73b3-dfbb-4a75-a3d2-66cd87e51c11",
   "metadata": {},
   "outputs": [],
   "source": [
    "import pandas as pd\n",
    "\n",
    "# Load the CSV file with a specified encoding\n",
    "file_path = r\"C:\\Users\\Imal Pasindu\\Downloads\\laptop_price.csv\"\n",
    "df = pd.read_csv(file_path, encoding='latin1')\n",
    "\n",
    "# Display the first few rows\n",
    "print(df.head())\n"
   ]
  },
  {
   "cell_type": "code",
   "execution_count": 3,
   "id": "ce622925-4c8c-44f1-a1ee-1fe126842e63",
   "metadata": {},
   "outputs": [
    {
     "ename": "NameError",
     "evalue": "name 'data' is not defined",
     "output_type": "error",
     "traceback": [
      "\u001b[1;31m---------------------------------------------------------------------------\u001b[0m",
      "\u001b[1;31mNameError\u001b[0m                                 Traceback (most recent call last)",
      "Cell \u001b[1;32mIn[3], line 1\u001b[0m\n\u001b[1;32m----> 1\u001b[0m \u001b[43mdata\u001b[49m\u001b[38;5;241m.\u001b[39mshape\n",
      "\u001b[1;31mNameError\u001b[0m: name 'data' is not defined"
     ]
    }
   ],
   "source": [
    "data.shape\n"
   ]
  },
  {
   "cell_type": "code",
   "execution_count": null,
   "id": "d0a7bffb-5526-4f9c-b987-a00a41ed3fd5",
   "metadata": {},
   "outputs": [],
   "source": [
    "import pandas as pd\n",
    "\n",
    "# Load the CSV file with specified encoding\n",
    "file_path = r\"C:\\Users\\Imal Pasindu\\Downloads\\laptop_price.csv\"\n",
    "df = pd.read_csv(file_path, encoding='latin1')  # or other encoding if needed\n",
    "\n",
    "# Get the shape (rows, columns) of the DataFrame\n",
    "print(df.shape)\n"
   ]
  },
  {
   "cell_type": "code",
   "execution_count": null,
   "id": "f0681eab-5240-46db-9ca8-b2bdd10e213e",
   "metadata": {},
   "outputs": [],
   "source": [
    "data.isnull\n"
   ]
  },
  {
   "cell_type": "code",
   "execution_count": null,
   "id": "9c20471b-6be0-47cc-919d-827c13f728b1",
   "metadata": {},
   "outputs": [],
   "source": [
    "df.isnull\n"
   ]
  },
  {
   "cell_type": "code",
   "execution_count": null,
   "id": "f952da23-2f85-4c0f-aa44-bb7bb46baeb7",
   "metadata": {},
   "outputs": [],
   "source": [
    "df.shape"
   ]
  },
  {
   "cell_type": "code",
   "execution_count": null,
   "id": "142402cd-0d69-4612-9bc3-073da2fc3ff1",
   "metadata": {},
   "outputs": [],
   "source": [
    "df.isnull"
   ]
  },
  {
   "cell_type": "code",
   "execution_count": null,
   "id": "40228fa3-95a3-416d-8504-d1b8723ecaf9",
   "metadata": {},
   "outputs": [],
   "source": [
    "df.isnull().sum()\n"
   ]
  },
  {
   "cell_type": "code",
   "execution_count": null,
   "id": "f2ace6d5-c109-4528-8e82-c5f6cb4da6b6",
   "metadata": {},
   "outputs": [],
   "source": [
    "df.info()"
   ]
  },
  {
   "cell_type": "code",
   "execution_count": null,
   "id": "635fdb0c-ef9d-4be7-b677-5ec6c15c9351",
   "metadata": {},
   "outputs": [],
   "source": [
    "df.head(2)"
   ]
  },
  {
   "cell_type": "code",
   "execution_count": null,
   "id": "41f5274b-e96d-4b46-9a19-f8307c5a8993",
   "metadata": {},
   "outputs": [],
   "source": [
    "df['RAM'] = df['RAM'].str.replace('GB', '').astype('int32')"
   ]
  },
  {
   "cell_type": "code",
   "execution_count": null,
   "id": "1749b5a3-e669-4c9b-b4dc-be20ec22f895",
   "metadata": {},
   "outputs": [],
   "source": [
    "df['Ram'] = df['Ram'].str.replace('GB', '').astype('int32')"
   ]
  },
  {
   "cell_type": "code",
   "execution_count": null,
   "id": "a7068942-4703-473b-a3df-172088a266ed",
   "metadata": {},
   "outputs": [],
   "source": [
    "df['Weight'] = df['Weight'].str.replace('kg', '').astype('float32')"
   ]
  },
  {
   "cell_type": "code",
   "execution_count": null,
   "id": "36075c9f-2e5a-44ac-88ae-fe831190894c",
   "metadata": {},
   "outputs": [],
   "source": [
    "df.head(2)"
   ]
  },
  {
   "cell_type": "code",
   "execution_count": null,
   "id": "48b7846e-a9e1-4b18-8cca-da3d38468533",
   "metadata": {},
   "outputs": [],
   "source": [
    "df.info()\n"
   ]
  },
  {
   "cell_type": "code",
   "execution_count": null,
   "id": "e6166144-0c9a-4a59-9fa7-302813c545dc",
   "metadata": {},
   "outputs": [],
   "source": [
    "df.corr()['price_euros']"
   ]
  },
  {
   "cell_type": "code",
   "execution_count": null,
   "id": "825afc45-d2c7-41df-8380-7e0404034939",
   "metadata": {},
   "outputs": [],
   "source": [
    "df.corr()['Price_euros']"
   ]
  },
  {
   "cell_type": "code",
   "execution_count": null,
   "id": "6ee73bde-12ce-4330-87f8-5c899149e074",
   "metadata": {},
   "outputs": [],
   "source": [
    "df.corr()['Price_euros']"
   ]
  },
  {
   "cell_type": "code",
   "execution_count": null,
   "id": "44f89daf-b68b-41ec-ae00-2b059a3eb9d5",
   "metadata": {},
   "outputs": [],
   "source": [
    " \tdf.corr()['Price_euros']"
   ]
  },
  {
   "cell_type": "code",
   "execution_count": null,
   "id": "f13be67f-70b7-45cf-8f1d-1bf35c5dd5d0",
   "metadata": {},
   "outputs": [],
   "source": [
    "# Select only numeric columns for correlation\n",
    "numeric_df = df.select_dtypes(include=['number'])\n",
    "\n",
    "# Calculate correlation and access the 'Price_euros' column\n",
    "price_corr = numeric_df.corr()['Price_euros']\n",
    "\n",
    "# Display the correlation values\n",
    "print(price_corr)\n"
   ]
  },
  {
   "cell_type": "code",
   "execution_count": null,
   "id": "fb018dc0-e91c-4bc8-a688-74c89b683ba3",
   "metadata": {},
   "outputs": [],
   "source": []
  },
  {
   "cell_type": "code",
   "execution_count": null,
   "id": "bb682885-57ef-44ae-bca7-072e47de724b",
   "metadata": {},
   "outputs": [],
   "source": []
  },
  {
   "cell_type": "code",
   "execution_count": null,
   "id": "aaf5bfe1-6ad4-4d22-8946-243d269dc35f",
   "metadata": {},
   "outputs": [],
   "source": [
    "df['Company'].value_counts()\n"
   ]
  },
  {
   "cell_type": "code",
   "execution_count": null,
   "id": "b5be23a9-eb06-4f3e-9d1b-b571e0c95ac6",
   "metadata": {},
   "outputs": [],
   "source": [
    "# Define a list of companies to group into 'Other'\n",
    "other_companies = ['Samsung', 'Mediacom', 'Razer', 'Microsoft', 'Vero', \n",
    "                   'Xiaomi', 'Chuwi', 'Fujitsu', 'Google', 'LG', 'Huawei']\n",
    "\n",
    "# Apply transformation to the 'Company' column\n",
    "df['Company'] = df['Company'].apply(lambda x: 'Other' if x in other_companies else x)\n",
    "\n",
    "# Verify the result by displaying the counts again\n",
    "company_counts = df['Company'].value_counts()\n",
    "print(company_counts)\n"
   ]
  },
  {
   "cell_type": "code",
   "execution_count": null,
   "id": "cdbbf5b4-0af3-4bdb-b913-8c41768bd30e",
   "metadata": {},
   "outputs": [],
   "source": [
    "df['TypeName'].value_counts()"
   ]
  },
  {
   "cell_type": "code",
   "execution_count": null,
   "id": "1f7c4296-c49e-4760-becd-c84639b70262",
   "metadata": {},
   "outputs": [],
   "source": [
    "df['ScreenResolution'].value_counts()"
   ]
  },
  {
   "cell_type": "code",
   "execution_count": null,
   "id": "17474cea-a21d-4f16-97b1-b9e12c58f7f8",
   "metadata": {},
   "outputs": [],
   "source": []
  },
  {
   "cell_type": "code",
   "execution_count": null,
   "id": "98d7c1b3-e7e4-4ada-8b4e-48b73ec30173",
   "metadata": {},
   "outputs": [],
   "source": [
    "# Example: Add 'TouchScreen' and 'IPS' columns based on ScreenResolution or other conditions\n",
    "# Assuming that \"TouchScreen\" and \"IPS\" information can be deduced from the ScreenResolution or similar logic.\n",
    "\n",
    "df['TouchScreen'] = df['ScreenResolution'].apply(lambda x: '1' if 'Touch' in str(x) else '0')\n",
    "df['IPS'] = df['ScreenResolution'].apply(lambda x: '1' if 'IPS' in str(x) else '0')\n",
    "\n",
    "# Remove the 'ScreenResolution' column\n",
    "df = df.drop(columns=['ScreenResolution'])\n",
    "\n",
    "# Display the updated DataFrame\n",
    "print(df.head())\n"
   ]
  },
  {
   "cell_type": "code",
   "execution_count": null,
   "id": "dc5c7e1c-f920-48c4-b350-4c090e493e9c",
   "metadata": {},
   "outputs": [],
   "source": [
    "df['Product'].value_counts()"
   ]
  },
  {
   "cell_type": "code",
   "execution_count": null,
   "id": "fecee597-f126-4476-8de9-a0e0f2d5cc02",
   "metadata": {},
   "outputs": [],
   "source": [
    "df.head(2)"
   ]
  },
  {
   "cell_type": "code",
   "execution_count": null,
   "id": "7560c6b1-7f21-4526-9fcf-afa5af08a9c8",
   "metadata": {},
   "outputs": [],
   "source": [
    "df['Cpu'].value_counts()"
   ]
  },
  {
   "cell_type": "code",
   "execution_count": null,
   "id": "0fa06089-4952-4787-96e0-71406c8948c9",
   "metadata": {},
   "outputs": [],
   "source": [
    "len(df['Cpu'].value_counts())"
   ]
  },
  {
   "cell_type": "code",
   "execution_count": null,
   "id": "95dc7765-0f4c-4658-8ee5-1f1e2d6d02ba",
   "metadata": {},
   "outputs": [],
   "source": []
  }
 ],
 "metadata": {
  "kernelspec": {
   "display_name": "Python 3 (ipykernel)",
   "language": "python",
   "name": "python3"
  },
  "language_info": {
   "codemirror_mode": {
    "name": "ipython",
    "version": 3
   },
   "file_extension": ".py",
   "mimetype": "text/x-python",
   "name": "python",
   "nbconvert_exporter": "python",
   "pygments_lexer": "ipython3",
   "version": "3.13.1"
  }
 },
 "nbformat": 4,
 "nbformat_minor": 5
}
